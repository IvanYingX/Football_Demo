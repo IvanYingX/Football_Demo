{
 "cells": [
  {
   "cell_type": "code",
   "execution_count": 1,
   "metadata": {},
   "outputs": [],
   "source": [
    "import pandas as pd\n",
    "import glob\n",
    "import warnings\n",
    "import pickle\n",
    "\n",
    "\n",
    "warnings.filterwarnings('ignore')\n",
    "paths = glob.glob('./Football-Dataset/*/*')\n",
    "pd_list = []\n",
    "\n",
    "for path in paths:\n",
    "    temp_csv = pd.read_csv(path)\n",
    "    pd_list.append(temp_csv)\n",
    "\n",
    "df = pd.concat(pd_list)"
   ]
  },
  {
   "cell_type": "code",
   "execution_count": 2,
   "metadata": {},
   "outputs": [],
   "source": [
    "def clean_link(x):\n",
    "    new_link = x.split('.com')[1]\n",
    "    new_link_year = new_link.split('/')[-1][0:4]\n",
    "    new_link_complete = '/'.join(new_link.split('/')[:-1]) + '/' + new_link_year\n",
    "    return new_link_complete"
   ]
  },
  {
   "cell_type": "code",
   "execution_count": 3,
   "metadata": {},
   "outputs": [],
   "source": [
    "df['New Link'] = df['Link'].apply(clean_link)"
   ]
  },
  {
   "cell_type": "code",
   "execution_count": 4,
   "metadata": {},
   "outputs": [],
   "source": [
    "match_info_df = pd.read_csv('Match_Info.csv')"
   ]
  },
  {
   "cell_type": "code",
   "execution_count": 5,
   "metadata": {},
   "outputs": [],
   "source": [
    "new_df = df.merge(match_info_df, left_on='New Link', right_on='Link').rename(columns={'Link_x': 'Link'})"
   ]
  },
  {
   "cell_type": "code",
   "execution_count": 6,
   "metadata": {},
   "outputs": [],
   "source": [
    "elo_dict = pickle.load(open('elo_dict.pkl', 'rb'))\n",
    "elo_df = pd.DataFrame.from_dict(elo_dict)\n",
    "elo_df = elo_df.transpose().reset_index().rename(columns={'index': 'Link'})"
   ]
  },
  {
   "cell_type": "code",
   "execution_count": 7,
   "metadata": {},
   "outputs": [],
   "source": [
    "final_df = elo_df.merge(new_df, on='Link').dropna(subset=['Elo_home']).drop_duplicates(subset=['Link'], keep='first')"
   ]
  },
  {
   "cell_type": "code",
   "execution_count": 8,
   "metadata": {},
   "outputs": [],
   "source": [
    "new_df = final_df[['League', 'Round', 'Season', 'Home_Team', 'Away_Team', 'Result', 'Elo_home', 'Elo_away']]"
   ]
  },
  {
   "cell_type": "code",
   "execution_count": 9,
   "metadata": {},
   "outputs": [],
   "source": [
    "def get_home_result(x):\n",
    "    home = x.split('-')[0]\n",
    "    return home\n",
    "\n",
    "def get_away_result(x):\n",
    "    away = x.split('-')[1]\n",
    "    return away\n",
    "\n",
    "new_df['Home Score'] = new_df['Result'].apply(get_home_result)\n",
    "new_df['Away Score'] = new_df['Result'].apply(get_away_result)"
   ]
  },
  {
   "cell_type": "code",
   "execution_count": 10,
   "metadata": {},
   "outputs": [],
   "source": [
    "for idx, match in new_df.iterrows():\n",
    "    if match['Home Score'] > match['Away Score']:\n",
    "        res = 1\n",
    "    elif match['Home Score'] < match['Away Score']:\n",
    "        res = 3\n",
    "    else:\n",
    "        res = 2\n",
    "    new_df.loc[ idx, 'Result_Num'] = res"
   ]
  },
  {
   "cell_type": "code",
   "execution_count": 12,
   "metadata": {},
   "outputs": [],
   "source": [
    "new_df = new_df.rename(columns={'Result_Num': 'Outcome'})"
   ]
  },
  {
   "cell_type": "markdown",
   "metadata": {},
   "source": [
    "## Feature engineering only on the Premier League for Goals so Far"
   ]
  },
  {
   "cell_type": "code",
   "execution_count": 13,
   "metadata": {},
   "outputs": [],
   "source": [
    "mask = (new_df['League'] == 'premier_league') & (new_df['Season'] == 2021)"
   ]
  },
  {
   "cell_type": "code",
   "execution_count": 14,
   "metadata": {},
   "outputs": [],
   "source": [
    "premier_league = new_df[mask]"
   ]
  },
  {
   "cell_type": "code",
   "execution_count": 16,
   "metadata": {},
   "outputs": [
    {
     "data": {
      "text/html": [
       "<div>\n",
       "<style scoped>\n",
       "    .dataframe tbody tr th:only-of-type {\n",
       "        vertical-align: middle;\n",
       "    }\n",
       "\n",
       "    .dataframe tbody tr th {\n",
       "        vertical-align: top;\n",
       "    }\n",
       "\n",
       "    .dataframe thead th {\n",
       "        text-align: right;\n",
       "    }\n",
       "</style>\n",
       "<table border=\"1\" class=\"dataframe\">\n",
       "  <thead>\n",
       "    <tr style=\"text-align: right;\">\n",
       "      <th></th>\n",
       "      <th>Round</th>\n",
       "      <th>Season</th>\n",
       "      <th>Home_Team</th>\n",
       "      <th>Away_Team</th>\n",
       "      <th>Home Score</th>\n",
       "      <th>Away Score</th>\n",
       "    </tr>\n",
       "  </thead>\n",
       "  <tbody>\n",
       "    <tr>\n",
       "      <th>79243</th>\n",
       "      <td>1</td>\n",
       "      <td>2021</td>\n",
       "      <td>Fulham</td>\n",
       "      <td>Arsenal</td>\n",
       "      <td>0</td>\n",
       "      <td>3</td>\n",
       "    </tr>\n",
       "    <tr>\n",
       "      <th>79244</th>\n",
       "      <td>1</td>\n",
       "      <td>2021</td>\n",
       "      <td>Crystal Palace</td>\n",
       "      <td>Southampton</td>\n",
       "      <td>1</td>\n",
       "      <td>0</td>\n",
       "    </tr>\n",
       "    <tr>\n",
       "      <th>79245</th>\n",
       "      <td>1</td>\n",
       "      <td>2021</td>\n",
       "      <td>Liverpool</td>\n",
       "      <td>Leeds United</td>\n",
       "      <td>4</td>\n",
       "      <td>3</td>\n",
       "    </tr>\n",
       "    <tr>\n",
       "      <th>79246</th>\n",
       "      <td>1</td>\n",
       "      <td>2021</td>\n",
       "      <td>West Ham</td>\n",
       "      <td>Newcastle</td>\n",
       "      <td>0</td>\n",
       "      <td>2</td>\n",
       "    </tr>\n",
       "    <tr>\n",
       "      <th>79247</th>\n",
       "      <td>1</td>\n",
       "      <td>2021</td>\n",
       "      <td>West Bromwich Albion</td>\n",
       "      <td>Leicester</td>\n",
       "      <td>0</td>\n",
       "      <td>3</td>\n",
       "    </tr>\n",
       "    <tr>\n",
       "      <th>...</th>\n",
       "      <td>...</td>\n",
       "      <td>...</td>\n",
       "      <td>...</td>\n",
       "      <td>...</td>\n",
       "      <td>...</td>\n",
       "      <td>...</td>\n",
       "    </tr>\n",
       "    <tr>\n",
       "      <th>79495</th>\n",
       "      <td>26</td>\n",
       "      <td>2021</td>\n",
       "      <td>Crystal Palace</td>\n",
       "      <td>Fulham</td>\n",
       "      <td>0</td>\n",
       "      <td>0</td>\n",
       "    </tr>\n",
       "    <tr>\n",
       "      <th>79496</th>\n",
       "      <td>26</td>\n",
       "      <td>2021</td>\n",
       "      <td>Leicester</td>\n",
       "      <td>Arsenal</td>\n",
       "      <td>1</td>\n",
       "      <td>3</td>\n",
       "    </tr>\n",
       "    <tr>\n",
       "      <th>79497</th>\n",
       "      <td>26</td>\n",
       "      <td>2021</td>\n",
       "      <td>Tottenham Hotspur</td>\n",
       "      <td>Burnley</td>\n",
       "      <td>4</td>\n",
       "      <td>0</td>\n",
       "    </tr>\n",
       "    <tr>\n",
       "      <th>79498</th>\n",
       "      <td>26</td>\n",
       "      <td>2021</td>\n",
       "      <td>Chelsea</td>\n",
       "      <td>Man. Utd</td>\n",
       "      <td>0</td>\n",
       "      <td>0</td>\n",
       "    </tr>\n",
       "    <tr>\n",
       "      <th>79499</th>\n",
       "      <td>26</td>\n",
       "      <td>2021</td>\n",
       "      <td>Sheffield United</td>\n",
       "      <td>Liverpool</td>\n",
       "      <td>0</td>\n",
       "      <td>2</td>\n",
       "    </tr>\n",
       "  </tbody>\n",
       "</table>\n",
       "<p>257 rows × 6 columns</p>\n",
       "</div>"
      ],
      "text/plain": [
       "      Round Season             Home_Team     Away_Team Home Score Away Score\n",
       "79243     1   2021                Fulham       Arsenal          0          3\n",
       "79244     1   2021        Crystal Palace   Southampton          1          0\n",
       "79245     1   2021             Liverpool  Leeds United          4          3\n",
       "79246     1   2021              West Ham     Newcastle          0          2\n",
       "79247     1   2021  West Bromwich Albion     Leicester          0          3\n",
       "...     ...    ...                   ...           ...        ...        ...\n",
       "79495    26   2021        Crystal Palace        Fulham          0          0\n",
       "79496    26   2021             Leicester       Arsenal          1          3\n",
       "79497    26   2021     Tottenham Hotspur       Burnley          4          0\n",
       "79498    26   2021               Chelsea      Man. Utd          0          0\n",
       "79499    26   2021      Sheffield United     Liverpool          0          2\n",
       "\n",
       "[257 rows x 6 columns]"
      ]
     },
     "execution_count": 16,
     "metadata": {},
     "output_type": "execute_result"
    }
   ],
   "source": [
    "premier_league = premier_league[['Round', 'Season', 'Home_Team', 'Away_Team', 'Home Score', 'Away Score']]\n",
    "premier_league"
   ]
  },
  {
   "cell_type": "code",
   "execution_count": 17,
   "metadata": {},
   "outputs": [],
   "source": [
    "premier_league['Total Goals So Far Home'] = 0\n",
    "premier_league['Total Goals So Far Away'] = 0\n"
   ]
  },
  {
   "cell_type": "code",
   "execution_count": 20,
   "metadata": {},
   "outputs": [],
   "source": [
    "aux_dict = {}\n",
    "# ITerate through all the rounds except the last one\n",
    "# We don't need info about the last round because the next match round doesn't exist\n",
    "for round in premier_league['Round'].unique()[:-1]:\n",
    "    # Get the matches of the current round\n",
    "    new_round = premier_league[premier_league['Round'] == round]\n",
    "    # Get the number of goals per team in the current round\n",
    "    # and add it to the total goals so far\n",
    "    for i, row in new_round.iterrows():\n",
    "        if row['Home_Team'] in aux_dict:\n",
    "            aux_dict[row['Home_Team']] += int(row['Home Score'])\n",
    "        else:\n",
    "            aux_dict[row['Home_Team']] = int(row['Home Score'])\n",
    "\n",
    "        if row['Away_Team'] in aux_dict:\n",
    "            aux_dict[row['Away_Team']] += int(row['Away Score'])\n",
    "        else:\n",
    "            aux_dict[row['Away_Team']] = int(row['Away Score'])\n",
    "    # Add the total goals so far to the dataframe   \n",
    "    for team in aux_dict.keys():\n",
    "        # Check if the team on that round is the Home team\n",
    "        idx_home = premier_league[(premier_league['Home_Team'] == team) & (premier_league['Round'] == round + 1)]\n",
    "        if len(idx_home) == 1:\n",
    "            idx_home = idx_home.index\n",
    "            premier_league.loc[idx_home, 'Total Goals So Far Home'] = aux_dict[team]\n",
    "        # If not, it's the Away team\n",
    "        else:\n",
    "            idx_away = premier_league[(premier_league['Away_Team'] == team) & (premier_league['Round'] == round + 1)].index\n",
    "            premier_league.loc[idx_away, 'Total Goals So Far Away'] = aux_dict[team]"
   ]
  },
  {
   "cell_type": "markdown",
   "metadata": {},
   "source": [
    "### !! This works because the data is cleaned. Sometimes, some seasons and leagues have the data all over the place and in the same round Home team plays multiple times. That will cause some unexpected results for this algorithm. "
   ]
  },
  {
   "cell_type": "code",
   "execution_count": null,
   "metadata": {},
   "outputs": [],
   "source": []
  }
 ],
 "metadata": {
  "kernelspec": {
   "display_name": "Python 3.9.5 ('base')",
   "language": "python",
   "name": "python3"
  },
  "language_info": {
   "codemirror_mode": {
    "name": "ipython",
    "version": 3
   },
   "file_extension": ".py",
   "mimetype": "text/x-python",
   "name": "python",
   "nbconvert_exporter": "python",
   "pygments_lexer": "ipython3",
   "version": "3.9.5"
  },
  "orig_nbformat": 4,
  "vscode": {
   "interpreter": {
    "hash": "ce99af5845ff7f417c6fe57e3883abe41597db90e3f493c4f9da5159bbc46102"
   }
  }
 },
 "nbformat": 4,
 "nbformat_minor": 2
}
